{
  "cells": [
    {
      "cell_type": "markdown",
      "metadata": {
        "id": "vx_B5PysLU3h"
      },
      "source": [
        "# WORD EMBEDDDING"
      ]
    },
    {
      "cell_type": "code",
      "execution_count": null,
      "metadata": {
        "id": "Oy_ahrkNLU3m"
      },
      "outputs": [],
      "source": [
        "import numpy as np\n",
        "from tensorflow.keras.preprocessing.text import one_hot\n",
        "from tensorflow.keras.preprocessing.sequence import pad_sequences\n",
        "from tensorflow.keras.models import Sequential\n",
        "from tensorflow.keras.layers import Dense\n",
        "from tensorflow.keras.layers import Flatten\n",
        "from tensorflow.keras.layers import Embedding\n",
        "\n",
        "reviews = ['nice food',\n",
        "        'amazing restaurant',\n",
        "        'too good',\n",
        "        'just loved it!',\n",
        "        'will go again',\n",
        "        'horrible food',\n",
        "        'never go there',\n",
        "        'poor service',\n",
        "        'poor quality',\n",
        "        'needs improvement']\n",
        "\n",
        "sentiment = np.array([1,1,1,1,1,0,0,0,0,0])"
      ]
    },
    {
      "cell_type": "code",
      "execution_count": null,
      "metadata": {
        "id": "S775l9HILU3p",
        "outputId": "58434c0a-efee-4ad9-88cc-947af900827d"
      },
      "outputs": [
        {
          "data": {
            "text/plain": [
              "[2, 23]"
            ]
          },
          "execution_count": 15,
          "metadata": {},
          "output_type": "execute_result"
        }
      ],
      "source": [
        "one_hot(\"amazing restaurant\",30)"
      ]
    },
    {
      "cell_type": "code",
      "execution_count": null,
      "metadata": {
        "id": "BtZZSQV5LU3s",
        "outputId": "cd842a2e-a8b7-4e09-ecb0-c4efe269cb0c"
      },
      "outputs": [
        {
          "name": "stdout",
          "output_type": "stream",
          "text": [
            "[[17, 24], [2, 23], [24, 10], [6, 26, 28], [9, 11, 3], [12, 24], [28, 11, 26], [21, 22], [21, 19], [16, 20]]\n"
          ]
        }
      ],
      "source": [
        "vocab_size = 30\n",
        "encoded_reviews = [one_hot(d, vocab_size) for d in reviews]\n",
        "print(encoded_reviews)"
      ]
    },
    {
      "cell_type": "code",
      "execution_count": null,
      "metadata": {
        "id": "ZJJNaZZGLU3t",
        "outputId": "c03df516-7c23-4f06-e1f9-64d4eccd422b"
      },
      "outputs": [
        {
          "name": "stdout",
          "output_type": "stream",
          "text": [
            "[[17 24  0  0]\n",
            " [ 2 23  0  0]\n",
            " [24 10  0  0]\n",
            " [ 6 26 28  0]\n",
            " [ 9 11  3  0]\n",
            " [12 24  0  0]\n",
            " [28 11 26  0]\n",
            " [21 22  0  0]\n",
            " [21 19  0  0]\n",
            " [16 20  0  0]]\n"
          ]
        }
      ],
      "source": [
        "max_length = 4\n",
        "padded_reviews = pad_sequences(encoded_reviews, maxlen=max_length, padding='post')\n",
        "print(padded_reviews)"
      ]
    },
    {
      "cell_type": "code",
      "execution_count": null,
      "metadata": {
        "scrolled": true,
        "id": "PPC9Pnz4LU3u"
      },
      "outputs": [],
      "source": [
        "embeded_vector_size = 5\n",
        "\n",
        "model = Sequential()\n",
        "model.add(Embedding(vocab_size, embeded_vector_size, input_length=max_length,name=\"embedding\"))\n",
        "model.add(Flatten())\n",
        "model.add(Dense(1, activation='sigmoid'))"
      ]
    },
    {
      "cell_type": "code",
      "execution_count": null,
      "metadata": {
        "id": "BvRgW5c6LU3v"
      },
      "outputs": [],
      "source": [
        "X = padded_reviews\n",
        "y = sentiment"
      ]
    },
    {
      "cell_type": "code",
      "execution_count": null,
      "metadata": {
        "id": "_cqgTA6RLU3w",
        "outputId": "b787cd76-1629-44a2-9431-be8ff9b01638"
      },
      "outputs": [
        {
          "name": "stdout",
          "output_type": "stream",
          "text": [
            "Model: \"sequential_1\"\n",
            "_________________________________________________________________\n",
            "Layer (type)                 Output Shape              Param #   \n",
            "=================================================================\n",
            "embedding (Embedding)        (None, 4, 5)              150       \n",
            "_________________________________________________________________\n",
            "flatten_1 (Flatten)          (None, 20)                0         \n",
            "_________________________________________________________________\n",
            "dense_1 (Dense)              (None, 1)                 21        \n",
            "=================================================================\n",
            "Total params: 171\n",
            "Trainable params: 171\n",
            "Non-trainable params: 0\n",
            "_________________________________________________________________\n",
            "None\n"
          ]
        }
      ],
      "source": [
        "model.compile(optimizer='adam', loss='binary_crossentropy', metrics=['accuracy'])\n",
        "print(model.summary())"
      ]
    },
    {
      "cell_type": "code",
      "execution_count": null,
      "metadata": {
        "scrolled": true,
        "id": "4ppmbWnrLU3x",
        "outputId": "be8ca3d2-2b0b-457f-8359-9e843359b2fa"
      },
      "outputs": [
        {
          "data": {
            "text/plain": [
              "<keras.callbacks.History at 0x1b9675e61d0>"
            ]
          },
          "execution_count": 21,
          "metadata": {},
          "output_type": "execute_result"
        }
      ],
      "source": [
        "model.fit(X, y, epochs=50, verbose=0)"
      ]
    },
    {
      "cell_type": "code",
      "execution_count": null,
      "metadata": {
        "id": "Nwz1Wx93LU3y",
        "outputId": "1af9be34-c1f4-42f1-d62c-aa73c087cb00"
      },
      "outputs": [
        {
          "name": "stdout",
          "output_type": "stream",
          "text": [
            "1/1 [==============================] - 0s 79ms/step - loss: 0.6157 - accuracy: 0.9000\n"
          ]
        },
        {
          "data": {
            "text/plain": [
              "0.8999999761581421"
            ]
          },
          "execution_count": 22,
          "metadata": {},
          "output_type": "execute_result"
        }
      ],
      "source": [
        "# evaluate the model\n",
        "loss, accuracy = model.evaluate(X, y)\n",
        "accuracy"
      ]
    },
    {
      "cell_type": "code",
      "execution_count": null,
      "metadata": {
        "id": "CpixBMCpLU3z",
        "outputId": "035935ce-4c87-494a-95e0-7424e7919cce"
      },
      "outputs": [
        {
          "data": {
            "text/plain": [
              "30"
            ]
          },
          "execution_count": 23,
          "metadata": {},
          "output_type": "execute_result"
        }
      ],
      "source": [
        "weights = model.get_layer('embedding').get_weights()[0]\n",
        "len(weights)"
      ]
    },
    {
      "cell_type": "code",
      "execution_count": null,
      "metadata": {
        "id": "kyzHUtKcLU30",
        "outputId": "790dc748-bbfe-4239-fd18-47a97d2c9f9a"
      },
      "outputs": [
        {
          "data": {
            "text/plain": [
              "array([-0.00979682,  0.04166451,  0.02031307,  0.00557742,  0.0394435 ],\n",
              "      dtype=float32)"
            ]
          },
          "execution_count": 24,
          "metadata": {},
          "output_type": "execute_result"
        }
      ],
      "source": [
        "weights[13]"
      ]
    },
    {
      "cell_type": "code",
      "execution_count": null,
      "metadata": {
        "scrolled": false,
        "id": "pY_iu1OFLU30",
        "outputId": "6143180c-9c30-4da0-ee90-180ac9255661"
      },
      "outputs": [
        {
          "data": {
            "text/plain": [
              "array([ 0.00436239,  0.01971683,  0.01808694,  0.04933788, -0.0415208 ],\n",
              "      dtype=float32)"
            ]
          },
          "execution_count": 25,
          "metadata": {},
          "output_type": "execute_result"
        }
      ],
      "source": [
        "weights[4]"
      ]
    },
    {
      "cell_type": "code",
      "execution_count": null,
      "metadata": {
        "scrolled": true,
        "id": "1KE9eqLXLU31",
        "outputId": "fff5b5a9-0d1e-4617-8a55-283c2d61b923"
      },
      "outputs": [
        {
          "data": {
            "text/plain": [
              "array([-0.01950807,  0.02621825,  0.05658838, -0.09349167,  0.09969497],\n",
              "      dtype=float32)"
            ]
          },
          "execution_count": 26,
          "metadata": {},
          "output_type": "execute_result"
        }
      ],
      "source": [
        "weights[16]"
      ]
    },
    {
      "cell_type": "code",
      "execution_count": null,
      "metadata": {
        "id": "dA8DaZ-3LU32"
      },
      "outputs": [],
      "source": []
    },
    {
      "cell_type": "code",
      "execution_count": null,
      "metadata": {
        "id": "dFoF3HiRLU32"
      },
      "outputs": [],
      "source": []
    },
    {
      "cell_type": "markdown",
      "metadata": {
        "id": "-cBuRH7tLU33"
      },
      "source": [
        "# WORD TO VECTOR"
      ]
    },
    {
      "cell_type": "code",
      "execution_count": 2,
      "metadata": {
        "id": "MlTVGMrULU33"
      },
      "outputs": [],
      "source": [
        "import gensim\n",
        "import pandas as pd\n",
        "import json"
      ]
    },
    {
      "cell_type": "code",
      "source": [
        "\n",
        "# Load JSON data into a DataFrame\n",
        "df = pd.read_json(\"Cell_Phones_and_Accessories_10.json\", lines=True)\n",
        "\n",
        "# Display the first 2 rows\n",
        "df.head(2)"
      ],
      "metadata": {
        "colab": {
          "base_uri": "https://localhost:8080/",
          "height": 254
        },
        "id": "_9xJ1tVvL11v",
        "outputId": "f6e5a741-142a-45df-a69f-bc86f3f61357"
      },
      "execution_count": 8,
      "outputs": [
        {
          "output_type": "execute_result",
          "data": {
            "text/plain": [
              "       reviewerID        asin  \\\n",
              "0  A3CW0ZLUO5X2B1  B006YJBITS   \n",
              "1  A1W415JP5WEAJK  B006YJBITS   \n",
              "\n",
              "                                       reviewerName helpful  \\\n",
              "0  35-year Technology Consumer \"8-tracks to 802.11\"  [0, 0]   \n",
              "1                                            Alex S  [5, 6]   \n",
              "\n",
              "                                          reviewText  overall  \\\n",
              "0  First, the disclosure:The vendor provided me t...        4   \n",
              "1  This wonderful little charger (about the size ...        5   \n",
              "\n",
              "                                summary  unixReviewTime   reviewTime  \n",
              "0  Good product for specialized uses...      1327449600  01 25, 2012  \n",
              "1                  Emergency backup ...      1332979200  03 29, 2012  "
            ],
            "text/html": [
              "\n",
              "  <div id=\"df-6b3850a7-645e-4c66-b961-2d0f7794256e\" class=\"colab-df-container\">\n",
              "    <div>\n",
              "<style scoped>\n",
              "    .dataframe tbody tr th:only-of-type {\n",
              "        vertical-align: middle;\n",
              "    }\n",
              "\n",
              "    .dataframe tbody tr th {\n",
              "        vertical-align: top;\n",
              "    }\n",
              "\n",
              "    .dataframe thead th {\n",
              "        text-align: right;\n",
              "    }\n",
              "</style>\n",
              "<table border=\"1\" class=\"dataframe\">\n",
              "  <thead>\n",
              "    <tr style=\"text-align: right;\">\n",
              "      <th></th>\n",
              "      <th>reviewerID</th>\n",
              "      <th>asin</th>\n",
              "      <th>reviewerName</th>\n",
              "      <th>helpful</th>\n",
              "      <th>reviewText</th>\n",
              "      <th>overall</th>\n",
              "      <th>summary</th>\n",
              "      <th>unixReviewTime</th>\n",
              "      <th>reviewTime</th>\n",
              "    </tr>\n",
              "  </thead>\n",
              "  <tbody>\n",
              "    <tr>\n",
              "      <th>0</th>\n",
              "      <td>A3CW0ZLUO5X2B1</td>\n",
              "      <td>B006YJBITS</td>\n",
              "      <td>35-year Technology Consumer \"8-tracks to 802.11\"</td>\n",
              "      <td>[0, 0]</td>\n",
              "      <td>First, the disclosure:The vendor provided me t...</td>\n",
              "      <td>4</td>\n",
              "      <td>Good product for specialized uses...</td>\n",
              "      <td>1327449600</td>\n",
              "      <td>01 25, 2012</td>\n",
              "    </tr>\n",
              "    <tr>\n",
              "      <th>1</th>\n",
              "      <td>A1W415JP5WEAJK</td>\n",
              "      <td>B006YJBITS</td>\n",
              "      <td>Alex S</td>\n",
              "      <td>[5, 6]</td>\n",
              "      <td>This wonderful little charger (about the size ...</td>\n",
              "      <td>5</td>\n",
              "      <td>Emergency backup ...</td>\n",
              "      <td>1332979200</td>\n",
              "      <td>03 29, 2012</td>\n",
              "    </tr>\n",
              "  </tbody>\n",
              "</table>\n",
              "</div>\n",
              "    <div class=\"colab-df-buttons\">\n",
              "\n",
              "  <div class=\"colab-df-container\">\n",
              "    <button class=\"colab-df-convert\" onclick=\"convertToInteractive('df-6b3850a7-645e-4c66-b961-2d0f7794256e')\"\n",
              "            title=\"Convert this dataframe to an interactive table.\"\n",
              "            style=\"display:none;\">\n",
              "\n",
              "  <svg xmlns=\"http://www.w3.org/2000/svg\" height=\"24px\" viewBox=\"0 -960 960 960\">\n",
              "    <path d=\"M120-120v-720h720v720H120Zm60-500h600v-160H180v160Zm220 220h160v-160H400v160Zm0 220h160v-160H400v160ZM180-400h160v-160H180v160Zm440 0h160v-160H620v160ZM180-180h160v-160H180v160Zm440 0h160v-160H620v160Z\"/>\n",
              "  </svg>\n",
              "    </button>\n",
              "\n",
              "  <style>\n",
              "    .colab-df-container {\n",
              "      display:flex;\n",
              "      gap: 12px;\n",
              "    }\n",
              "\n",
              "    .colab-df-convert {\n",
              "      background-color: #E8F0FE;\n",
              "      border: none;\n",
              "      border-radius: 50%;\n",
              "      cursor: pointer;\n",
              "      display: none;\n",
              "      fill: #1967D2;\n",
              "      height: 32px;\n",
              "      padding: 0 0 0 0;\n",
              "      width: 32px;\n",
              "    }\n",
              "\n",
              "    .colab-df-convert:hover {\n",
              "      background-color: #E2EBFA;\n",
              "      box-shadow: 0px 1px 2px rgba(60, 64, 67, 0.3), 0px 1px 3px 1px rgba(60, 64, 67, 0.15);\n",
              "      fill: #174EA6;\n",
              "    }\n",
              "\n",
              "    .colab-df-buttons div {\n",
              "      margin-bottom: 4px;\n",
              "    }\n",
              "\n",
              "    [theme=dark] .colab-df-convert {\n",
              "      background-color: #3B4455;\n",
              "      fill: #D2E3FC;\n",
              "    }\n",
              "\n",
              "    [theme=dark] .colab-df-convert:hover {\n",
              "      background-color: #434B5C;\n",
              "      box-shadow: 0px 1px 3px 1px rgba(0, 0, 0, 0.15);\n",
              "      filter: drop-shadow(0px 1px 2px rgba(0, 0, 0, 0.3));\n",
              "      fill: #FFFFFF;\n",
              "    }\n",
              "  </style>\n",
              "\n",
              "    <script>\n",
              "      const buttonEl =\n",
              "        document.querySelector('#df-6b3850a7-645e-4c66-b961-2d0f7794256e button.colab-df-convert');\n",
              "      buttonEl.style.display =\n",
              "        google.colab.kernel.accessAllowed ? 'block' : 'none';\n",
              "\n",
              "      async function convertToInteractive(key) {\n",
              "        const element = document.querySelector('#df-6b3850a7-645e-4c66-b961-2d0f7794256e');\n",
              "        const dataTable =\n",
              "          await google.colab.kernel.invokeFunction('convertToInteractive',\n",
              "                                                    [key], {});\n",
              "        if (!dataTable) return;\n",
              "\n",
              "        const docLinkHtml = 'Like what you see? Visit the ' +\n",
              "          '<a target=\"_blank\" href=https://colab.research.google.com/notebooks/data_table.ipynb>data table notebook</a>'\n",
              "          + ' to learn more about interactive tables.';\n",
              "        element.innerHTML = '';\n",
              "        dataTable['output_type'] = 'display_data';\n",
              "        await google.colab.output.renderOutput(dataTable, element);\n",
              "        const docLink = document.createElement('div');\n",
              "        docLink.innerHTML = docLinkHtml;\n",
              "        element.appendChild(docLink);\n",
              "      }\n",
              "    </script>\n",
              "  </div>\n",
              "\n",
              "\n",
              "<div id=\"df-cd4ef77f-e84f-48a6-9805-6f7c18160549\">\n",
              "  <button class=\"colab-df-quickchart\" onclick=\"quickchart('df-cd4ef77f-e84f-48a6-9805-6f7c18160549')\"\n",
              "            title=\"Suggest charts.\"\n",
              "            style=\"display:none;\">\n",
              "\n",
              "<svg xmlns=\"http://www.w3.org/2000/svg\" height=\"24px\"viewBox=\"0 0 24 24\"\n",
              "     width=\"24px\">\n",
              "    <g>\n",
              "        <path d=\"M19 3H5c-1.1 0-2 .9-2 2v14c0 1.1.9 2 2 2h14c1.1 0 2-.9 2-2V5c0-1.1-.9-2-2-2zM9 17H7v-7h2v7zm4 0h-2V7h2v10zm4 0h-2v-4h2v4z\"/>\n",
              "    </g>\n",
              "</svg>\n",
              "  </button>\n",
              "\n",
              "<style>\n",
              "  .colab-df-quickchart {\n",
              "      --bg-color: #E8F0FE;\n",
              "      --fill-color: #1967D2;\n",
              "      --hover-bg-color: #E2EBFA;\n",
              "      --hover-fill-color: #174EA6;\n",
              "      --disabled-fill-color: #AAA;\n",
              "      --disabled-bg-color: #DDD;\n",
              "  }\n",
              "\n",
              "  [theme=dark] .colab-df-quickchart {\n",
              "      --bg-color: #3B4455;\n",
              "      --fill-color: #D2E3FC;\n",
              "      --hover-bg-color: #434B5C;\n",
              "      --hover-fill-color: #FFFFFF;\n",
              "      --disabled-bg-color: #3B4455;\n",
              "      --disabled-fill-color: #666;\n",
              "  }\n",
              "\n",
              "  .colab-df-quickchart {\n",
              "    background-color: var(--bg-color);\n",
              "    border: none;\n",
              "    border-radius: 50%;\n",
              "    cursor: pointer;\n",
              "    display: none;\n",
              "    fill: var(--fill-color);\n",
              "    height: 32px;\n",
              "    padding: 0;\n",
              "    width: 32px;\n",
              "  }\n",
              "\n",
              "  .colab-df-quickchart:hover {\n",
              "    background-color: var(--hover-bg-color);\n",
              "    box-shadow: 0 1px 2px rgba(60, 64, 67, 0.3), 0 1px 3px 1px rgba(60, 64, 67, 0.15);\n",
              "    fill: var(--button-hover-fill-color);\n",
              "  }\n",
              "\n",
              "  .colab-df-quickchart-complete:disabled,\n",
              "  .colab-df-quickchart-complete:disabled:hover {\n",
              "    background-color: var(--disabled-bg-color);\n",
              "    fill: var(--disabled-fill-color);\n",
              "    box-shadow: none;\n",
              "  }\n",
              "\n",
              "  .colab-df-spinner {\n",
              "    border: 2px solid var(--fill-color);\n",
              "    border-color: transparent;\n",
              "    border-bottom-color: var(--fill-color);\n",
              "    animation:\n",
              "      spin 1s steps(1) infinite;\n",
              "  }\n",
              "\n",
              "  @keyframes spin {\n",
              "    0% {\n",
              "      border-color: transparent;\n",
              "      border-bottom-color: var(--fill-color);\n",
              "      border-left-color: var(--fill-color);\n",
              "    }\n",
              "    20% {\n",
              "      border-color: transparent;\n",
              "      border-left-color: var(--fill-color);\n",
              "      border-top-color: var(--fill-color);\n",
              "    }\n",
              "    30% {\n",
              "      border-color: transparent;\n",
              "      border-left-color: var(--fill-color);\n",
              "      border-top-color: var(--fill-color);\n",
              "      border-right-color: var(--fill-color);\n",
              "    }\n",
              "    40% {\n",
              "      border-color: transparent;\n",
              "      border-right-color: var(--fill-color);\n",
              "      border-top-color: var(--fill-color);\n",
              "    }\n",
              "    60% {\n",
              "      border-color: transparent;\n",
              "      border-right-color: var(--fill-color);\n",
              "    }\n",
              "    80% {\n",
              "      border-color: transparent;\n",
              "      border-right-color: var(--fill-color);\n",
              "      border-bottom-color: var(--fill-color);\n",
              "    }\n",
              "    90% {\n",
              "      border-color: transparent;\n",
              "      border-bottom-color: var(--fill-color);\n",
              "    }\n",
              "  }\n",
              "</style>\n",
              "\n",
              "  <script>\n",
              "    async function quickchart(key) {\n",
              "      const quickchartButtonEl =\n",
              "        document.querySelector('#' + key + ' button');\n",
              "      quickchartButtonEl.disabled = true;  // To prevent multiple clicks.\n",
              "      quickchartButtonEl.classList.add('colab-df-spinner');\n",
              "      try {\n",
              "        const charts = await google.colab.kernel.invokeFunction(\n",
              "            'suggestCharts', [key], {});\n",
              "      } catch (error) {\n",
              "        console.error('Error during call to suggestCharts:', error);\n",
              "      }\n",
              "      quickchartButtonEl.classList.remove('colab-df-spinner');\n",
              "      quickchartButtonEl.classList.add('colab-df-quickchart-complete');\n",
              "    }\n",
              "    (() => {\n",
              "      let quickchartButtonEl =\n",
              "        document.querySelector('#df-cd4ef77f-e84f-48a6-9805-6f7c18160549 button');\n",
              "      quickchartButtonEl.style.display =\n",
              "        google.colab.kernel.accessAllowed ? 'block' : 'none';\n",
              "    })();\n",
              "  </script>\n",
              "</div>\n",
              "    </div>\n",
              "  </div>\n"
            ]
          },
          "metadata": {},
          "execution_count": 8
        }
      ]
    },
    {
      "cell_type": "code",
      "source": [
        "df.shape"
      ],
      "metadata": {
        "colab": {
          "base_uri": "https://localhost:8080/"
        },
        "id": "KGGAnCy_Peh0",
        "outputId": "eb554f21-a2ba-4ec4-d16f-c3d41093faf5"
      },
      "execution_count": 9,
      "outputs": [
        {
          "output_type": "execute_result",
          "data": {
            "text/plain": [
              "(1854, 9)"
            ]
          },
          "metadata": {},
          "execution_count": 9
        }
      ]
    },
    {
      "cell_type": "code",
      "source": [],
      "metadata": {
        "id": "QTehZDBXiVis"
      },
      "execution_count": null,
      "outputs": []
    },
    {
      "cell_type": "markdown",
      "source": [
        "# Simple Preprocessing & Tokenization\n",
        "The first thing to do for any data science task is to clean the data. For NLP, we apply various processing like converting all the words to lower case, trimming spaces, removing punctuations. This is something we will do over here too.\n",
        "\n",
        "Additionally, we can also remove stop words like 'and', 'or', 'is', 'the', 'a', 'an' and convert words to their root forms like 'running' to 'run'."
      ],
      "metadata": {
        "id": "FlI_r6w_iZRE"
      }
    },
    {
      "cell_type": "code",
      "source": [
        "review_text = df.reviewText.apply(gensim.utils.simple_preprocess)\n",
        "review_text"
      ],
      "metadata": {
        "colab": {
          "base_uri": "https://localhost:8080/"
        },
        "id": "iwcl5IT_YX1A",
        "outputId": "96a1aa73-a75d-4c56-830e-23fec3af75fa"
      },
      "execution_count": 11,
      "outputs": [
        {
          "output_type": "execute_result",
          "data": {
            "text/plain": [
              "0       [first, the, disclosure, the, vendor, provided...\n",
              "1       [this, wonderful, little, charger, about, the,...\n",
              "2       [these, are, an, absolutely, great, item, to, ...\n",
              "3       [this, incredicharge, works, very, well, and, ...\n",
              "4       [this, battery, charges, three, devices, at, t...\n",
              "                              ...                        \n",
              "1849    [this, is, more, of, convenience, than, tool, ...\n",
              "1850    [if, your, cell, phone, battery, seems, to, be...\n",
              "1851    [useful, emergency, power, backup, for, your, ...\n",
              "1852    [lifecharge, juicypack, mah, portable, charger...\n",
              "1853    [received, this, at, no, cost, in, exchange, f...\n",
              "Name: reviewText, Length: 1854, dtype: object"
            ]
          },
          "metadata": {},
          "execution_count": 11
        }
      ]
    },
    {
      "cell_type": "code",
      "source": [
        "review_text.loc[0]"
      ],
      "metadata": {
        "colab": {
          "base_uri": "https://localhost:8080/"
        },
        "id": "7vCpWLdSZEHr",
        "outputId": "f5c6ede1-a125-4ddb-ef22-54552abc3393"
      },
      "execution_count": 12,
      "outputs": [
        {
          "output_type": "execute_result",
          "data": {
            "text/plain": [
              "['first',\n",
              " 'the',\n",
              " 'disclosure',\n",
              " 'the',\n",
              " 'vendor',\n",
              " 'provided',\n",
              " 'me',\n",
              " 'this',\n",
              " 'product',\n",
              " 'free',\n",
              " 'of',\n",
              " 'charge',\n",
              " 'now',\n",
              " 'the',\n",
              " 'review',\n",
              " 'this',\n",
              " 'is',\n",
              " 'good',\n",
              " 'product',\n",
              " 'for',\n",
              " 'user',\n",
              " 'with',\n",
              " 'specialized',\n",
              " 'needs',\n",
              " 'which',\n",
              " 'ones',\n",
              " 'if',\n",
              " 'you',\n",
              " 'use',\n",
              " 'portable',\n",
              " 'gaming',\n",
              " 'device',\n",
              " 'or',\n",
              " 'often',\n",
              " 'view',\n",
              " 'entertainment',\n",
              " 'content',\n",
              " 'on',\n",
              " 'your',\n",
              " 'tablet',\n",
              " 'or',\n",
              " 'smart',\n",
              " 'phone',\n",
              " 'then',\n",
              " 'you',\n",
              " 'probably',\n",
              " 'have',\n",
              " 'greater',\n",
              " 'reliance',\n",
              " 'on',\n",
              " 'proximity',\n",
              " 'to',\n",
              " 'household',\n",
              " 'ac',\n",
              " 'or',\n",
              " 'automotive',\n",
              " 'dc',\n",
              " 'outlet',\n",
              " 'than',\n",
              " 'users',\n",
              " 'involved',\n",
              " 'in',\n",
              " 'less',\n",
              " 'power',\n",
              " 'intensive',\n",
              " 'activities',\n",
              " 'the',\n",
              " 'incredicharge',\n",
              " 'offers',\n",
              " 'additional',\n",
              " 'operation',\n",
              " 'time',\n",
              " 'or',\n",
              " 'charging',\n",
              " 'capability',\n",
              " 'when',\n",
              " 'you',\n",
              " 'are',\n",
              " 'will',\n",
              " 'not',\n",
              " 'have',\n",
              " 'ready',\n",
              " 'access',\n",
              " 'to',\n",
              " 'household',\n",
              " 'or',\n",
              " 'automotive',\n",
              " 'outlet',\n",
              " 'out',\n",
              " 'of',\n",
              " 'the',\n",
              " 'box',\n",
              " 'mine',\n",
              " 'took',\n",
              " 'about',\n",
              " 'an',\n",
              " 'hour',\n",
              " 'to',\n",
              " 'reach',\n",
              " 'its',\n",
              " 'charged',\n",
              " 'state',\n",
              " 'from',\n",
              " 'an',\n",
              " 'approximately',\n",
              " 'charge',\n",
              " 'according',\n",
              " 'to',\n",
              " 'the',\n",
              " 'indicating',\n",
              " 'leds',\n",
              " 'charging',\n",
              " 'took',\n",
              " 'place',\n",
              " 'from',\n",
              " 'laptop',\n",
              " 'usb',\n",
              " 'port',\n",
              " 'via',\n",
              " 'an',\n",
              " 'included',\n",
              " 'adapter',\n",
              " 'once',\n",
              " 'charged',\n",
              " 'power',\n",
              " 'is',\n",
              " 'delivered',\n",
              " 'to',\n",
              " 'supported',\n",
              " 'devices',\n",
              " 'by',\n",
              " 'one',\n",
              " 'of',\n",
              " 'two',\n",
              " 'avaialable',\n",
              " 'usb',\n",
              " 'ports',\n",
              " 'that',\n",
              " 'connect',\n",
              " 'via',\n",
              " 'six',\n",
              " 'different',\n",
              " 'charging',\n",
              " 'adapters',\n",
              " 'it',\n",
              " 'charged',\n",
              " 'two',\n",
              " 'nearly',\n",
              " 'depleted',\n",
              " 'phones',\n",
              " 'one',\n",
              " 'with',\n",
              " 'an',\n",
              " 'extended',\n",
              " 'life',\n",
              " 'battery',\n",
              " 'in',\n",
              " 'about',\n",
              " 'the',\n",
              " 'same',\n",
              " 'time',\n",
              " 'it',\n",
              " 'takes',\n",
              " 'me',\n",
              " 'to',\n",
              " 'charge',\n",
              " 'them',\n",
              " 'via',\n",
              " 'an',\n",
              " 'ac',\n",
              " 'adapter',\n",
              " 'about',\n",
              " 'three',\n",
              " 'hours',\n",
              " 'this',\n",
              " 'used',\n",
              " 'approximately',\n",
              " 'of',\n",
              " 'the',\n",
              " 'device',\n",
              " 'reserve',\n",
              " 'again',\n",
              " 'according',\n",
              " 'the',\n",
              " 'four',\n",
              " 'indicator',\n",
              " 'leds',\n",
              " 'four',\n",
              " 'leds',\n",
              " 'on',\n",
              " 'the',\n",
              " 'device',\n",
              " 'give',\n",
              " 'visual',\n",
              " 'feedback',\n",
              " 'on',\n",
              " 'its',\n",
              " 'remaining',\n",
              " 'charge',\n",
              " 'the',\n",
              " 'device',\n",
              " 'has',\n",
              " 'two',\n",
              " 'usb',\n",
              " 'ports',\n",
              " 'for',\n",
              " 'powering',\n",
              " 'attached',\n",
              " 'devices',\n",
              " 'why',\n",
              " 'four',\n",
              " 'stars',\n",
              " 'instead',\n",
              " 'of',\n",
              " 'five',\n",
              " 'the',\n",
              " 'fit',\n",
              " 'of',\n",
              " 'the',\n",
              " 'included',\n",
              " 'charging',\n",
              " 'adapters',\n",
              " 'varied',\n",
              " 'widely',\n",
              " 'on',\n",
              " 'my',\n",
              " 'unit',\n",
              " 'although',\n",
              " 'they',\n",
              " 'all',\n",
              " 'fit',\n",
              " 'some',\n",
              " 'were',\n",
              " 'rather',\n",
              " 'loose',\n",
              " 'and',\n",
              " 'the',\n",
              " 'mini',\n",
              " 'usb',\n",
              " 'adapter',\n",
              " 'that',\n",
              " 'charges',\n",
              " 'my',\n",
              " 'evo',\n",
              " 'was',\n",
              " 'very',\n",
              " 'loose',\n",
              " 'it',\n",
              " 'ships',\n",
              " 'with',\n",
              " 'printed',\n",
              " 'tri',\n",
              " 'fold',\n",
              " 'user',\n",
              " 'guide',\n",
              " 'get',\n",
              " 'out',\n",
              " 'glasses',\n",
              " 'and',\n",
              " 'your',\n",
              " 'magnifying',\n",
              " 'glass',\n",
              " 'because',\n",
              " 'the',\n",
              " 'print',\n",
              " 'on',\n",
              " 'this',\n",
              " 'guide',\n",
              " 'is',\n",
              " 'miniscule',\n",
              " 'no',\n",
              " 'show',\n",
              " 'stoppers',\n",
              " 'here',\n",
              " 'especially',\n",
              " 'at',\n",
              " 'the',\n",
              " 'current',\n",
              " 'deeply',\n",
              " 'discounted',\n",
              " 'price',\n",
              " 'if',\n",
              " 'you',\n",
              " 'have',\n",
              " 'recurring',\n",
              " 'need',\n",
              " 'to',\n",
              " 'extend',\n",
              " 'your',\n",
              " 'mobile',\n",
              " 'device',\n",
              " 'time',\n",
              " 'away',\n",
              " 'from',\n",
              " 'power',\n",
              " 'outlet',\n",
              " 'this',\n",
              " 'can',\n",
              " 'help',\n",
              " 'with',\n",
              " 'that',\n",
              " 'it',\n",
              " 'too',\n",
              " 'bulky',\n",
              " 'for',\n",
              " 'pocket',\n",
              " 'but',\n",
              " 'll',\n",
              " 'keep',\n",
              " 'it',\n",
              " 'charged',\n",
              " 'and',\n",
              " 'toss',\n",
              " 'it',\n",
              " 'with',\n",
              " 'my',\n",
              " 'traveling',\n",
              " 'bag']"
            ]
          },
          "metadata": {},
          "execution_count": 12
        }
      ]
    },
    {
      "cell_type": "code",
      "source": [
        "df.reviewText.loc[0]"
      ],
      "metadata": {
        "colab": {
          "base_uri": "https://localhost:8080/",
          "height": 174
        },
        "id": "TkYPj40FZXDV",
        "outputId": "477cef71-1687-4f28-866f-a8f47054b301"
      },
      "execution_count": 13,
      "outputs": [
        {
          "output_type": "execute_result",
          "data": {
            "text/plain": [
              "\"First, the disclosure:The vendor provided me this product free of charge.Now the review:This is good product for a user with specialized needs.Which ones?If you use a portable gaming device or often view entertainment content on your tablet or smart phone, then you probably have greater reliance on proximity to a household AC or automotive DC outlet than users involved in less power-intensive activities.The Incredicharge offers additional operation time (or a charging capability) when you are will not have ready access to a household or automotive outlet.Out of the box, mine took about an hour to reach its charged state (from an approximately 25% charge according to the indicating LEDs. Charging took place from a laptop USB port (via an included adapter).Once charged, power is delivered to supported devices by one of two avaialable USB ports that connect via six different charging adapters. It charged two nearly depleted phones (one with an extended life battery) in about the same time it takes me to charge them via an AC adapter (about three hours). This used approximately 50% of the device's reserve (again, according the four indicator LEDs).Four LEDs on the device give visual feedback on its remaining charge.The device has two USB ports for powering attached devices.Why four stars instead of five?The fit of the included charging adapters varied widely on my unit. Although they all fit, some were rather loose, and the mini-USB adapter that charges my Evo was *very* loose.It ships with a printed tri-fold user guide. Get out glasses...and your magnifying glass, because the print on this guide is *miniscule*.No show stoppers here, especially at the current deeply discounted price. If you have a recurring need to extend your mobile device's time away from a power outlet, this can help with that. It's too bulky for a pocket, but I'll keep it charged and toss it with my traveling bag.\""
            ],
            "application/vnd.google.colaboratory.intrinsic+json": {
              "type": "string"
            }
          },
          "metadata": {},
          "execution_count": 13
        }
      ]
    },
    {
      "cell_type": "code",
      "source": [],
      "metadata": {
        "id": "YqRaqfibi3Xn"
      },
      "execution_count": null,
      "outputs": []
    },
    {
      "cell_type": "markdown",
      "source": [
        "# Training the Word2Vec Model\n",
        "Train the model for reviews. Use a window of size 10 i.e. 10 words before the present word and 10 words ahead. A sentence with at least 2 words should only be considered, configure this using min_count parameter.\n",
        "\n",
        "Workers define how many CPU threads to be used."
      ],
      "metadata": {
        "id": "Fy2t5xWWi08W"
      }
    },
    {
      "cell_type": "markdown",
      "source": [
        "Initialize the model"
      ],
      "metadata": {
        "id": "sJitm3eli5s2"
      }
    },
    {
      "cell_type": "code",
      "source": [
        "model = gensim.models.Word2Vec(\n",
        "    window=10,\n",
        "    min_count=2,\n",
        "    workers=4,\n",
        ")"
      ],
      "metadata": {
        "id": "nKe-pxcrZlbc"
      },
      "execution_count": 14,
      "outputs": []
    },
    {
      "cell_type": "markdown",
      "source": [
        "Build the model"
      ],
      "metadata": {
        "id": "HNNXwWzujBir"
      }
    },
    {
      "cell_type": "code",
      "source": [
        "model.build_vocab(review_text, progress_per=1000)"
      ],
      "metadata": {
        "id": "52RuccJdZp8w"
      },
      "execution_count": 15,
      "outputs": []
    },
    {
      "cell_type": "markdown",
      "source": [
        "Train the model"
      ],
      "metadata": {
        "id": "8OsVIjOljENg"
      }
    },
    {
      "cell_type": "code",
      "source": [
        "model.train(review_text, total_examples=model.corpus_count, epochs=model.epochs)"
      ],
      "metadata": {
        "colab": {
          "base_uri": "https://localhost:8080/"
        },
        "id": "IRNY0FLnZsw2",
        "outputId": "3a4208e8-12ce-4cd3-98c9-1994a980a38d"
      },
      "execution_count": 16,
      "outputs": [
        {
          "output_type": "execute_result",
          "data": {
            "text/plain": [
              "(1717299, 2344395)"
            ]
          },
          "metadata": {},
          "execution_count": 16
        }
      ]
    },
    {
      "cell_type": "markdown",
      "source": [
        "SAVE THE MODEL FOR FUTURE USE"
      ],
      "metadata": {
        "id": "Gk-HRUarjII1"
      }
    },
    {
      "cell_type": "code",
      "source": [
        "model.save(\"./word2vec-amazon-cell-accessories-reviews-short.model\")"
      ],
      "metadata": {
        "id": "qio3HT3mZ2Dq"
      },
      "execution_count": 17,
      "outputs": []
    },
    {
      "cell_type": "markdown",
      "source": [
        "FINDING THE SIMILAR WORDS"
      ],
      "metadata": {
        "id": "Jbr-u8OmjPl2"
      }
    },
    {
      "cell_type": "code",
      "source": [
        "model.wv.most_similar(\"bad\")"
      ],
      "metadata": {
        "colab": {
          "base_uri": "https://localhost:8080/"
        },
        "id": "A2xDrYQzaFN7",
        "outputId": "b740f4a4-a7b2-4c14-d1e1-984a28e1b235"
      },
      "execution_count": 18,
      "outputs": [
        {
          "output_type": "execute_result",
          "data": {
            "text/plain": [
              "[('deal', 0.9185417294502258),\n",
              " ('waste', 0.9115172028541565),\n",
              " ('care', 0.9045664668083191),\n",
              " ('feeling', 0.9039129614830017),\n",
              " ('forever', 0.9034271836280823),\n",
              " ('though', 0.9011083841323853),\n",
              " ('however', 0.901063084602356),\n",
              " ('crazy', 0.8988466858863831),\n",
              " ('said', 0.8968404531478882),\n",
              " ('wouldn', 0.896065354347229)]"
            ]
          },
          "metadata": {},
          "execution_count": 18
        }
      ]
    },
    {
      "cell_type": "code",
      "source": [
        "model.wv.similarity(w1=\"cheap\", w2=\"inexpensive\")"
      ],
      "metadata": {
        "colab": {
          "base_uri": "https://localhost:8080/"
        },
        "id": "0fIrfFwgaLAD",
        "outputId": "cf3280a1-8683-48b3-f7c5-c5e6ffff50dc"
      },
      "execution_count": 19,
      "outputs": [
        {
          "output_type": "execute_result",
          "data": {
            "text/plain": [
              "0.7710698"
            ]
          },
          "metadata": {},
          "execution_count": 19
        }
      ]
    },
    {
      "cell_type": "code",
      "source": [
        "model.wv.similarity(w1=\"great\", w2=\"good\")"
      ],
      "metadata": {
        "colab": {
          "base_uri": "https://localhost:8080/"
        },
        "id": "DBe9ZainaOQq",
        "outputId": "6342aca3-ef29-4e39-bfd6-0e05e4078881"
      },
      "execution_count": 20,
      "outputs": [
        {
          "output_type": "execute_result",
          "data": {
            "text/plain": [
              "0.73020387"
            ]
          },
          "metadata": {},
          "execution_count": 20
        }
      ]
    },
    {
      "cell_type": "code",
      "source": [],
      "metadata": {
        "id": "hwwJS1sWaRj9"
      },
      "execution_count": null,
      "outputs": []
    }
  ],
  "metadata": {
    "kernelspec": {
      "display_name": "Python 3",
      "language": "python",
      "name": "python3"
    },
    "language_info": {
      "codemirror_mode": {
        "name": "ipython",
        "version": 3
      },
      "file_extension": ".py",
      "mimetype": "text/x-python",
      "name": "python",
      "nbconvert_exporter": "python",
      "pygments_lexer": "ipython3",
      "version": "3.6.13"
    },
    "colab": {
      "provenance": []
    }
  },
  "nbformat": 4,
  "nbformat_minor": 0
}